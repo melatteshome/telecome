{
 "cells": [
  {
   "cell_type": "code",
   "execution_count": 1,
   "metadata": {},
   "outputs": [],
   "source": [
    "import pandas as pd\n",
    "from sqlalchemy import create_engine, MetaData, Table\n",
    "import psycopg2"
   ]
  },
  {
   "cell_type": "code",
   "execution_count": 4,
   "metadata": {},
   "outputs": [
    {
     "name": "stdout",
     "output_type": "stream",
     "text": [
      "telecome\n"
     ]
    }
   ],
   "source": [
    "#create a function to connect to the database with sql alchemy\n",
    "databse_name = 'telecome'\n",
    "table_name = 'xdr_data'\n",
    "con_param ={\"host\": \"localhost\",\"user\": \"postgres\", \"password\":\"1272\", \"port\":\"5432\", \"database\":databse_name}\n",
    "print(databse_name)\n",
    "engin  = create_engine(f\"postgresql://{con_param['user']}:{con_param['password']}@{con_param['host']}/{con_param['port']}/{con_param['database']}\")\n",
    "\n",
    "sql_query = 'SELECT * FROM xdr_data'\n",
    "\n",
    "conn = psycopg2.connect(\n",
    "    host=\"localhost\",\n",
    "    port=5432,\n",
    "    database=\"telecome\",\n",
    "    user=\"postgres\",\n",
    "    password=\"1272\"\n",
    ")\n",
    "cursor =conn.cursor()\n",
    "cursor.execute(sql_query)\n"
   ]
  },
  {
   "cell_type": "code",
   "execution_count": null,
   "metadata": {},
   "outputs": [],
   "source": []
  },
  {
   "cell_type": "code",
   "execution_count": null,
   "metadata": {},
   "outputs": [],
   "source": []
  }
 ],
 "metadata": {
  "kernelspec": {
   "display_name": "Python 3",
   "language": "python",
   "name": "python3"
  },
  "language_info": {
   "codemirror_mode": {
    "name": "ipython",
    "version": 3
   },
   "file_extension": ".py",
   "mimetype": "text/x-python",
   "name": "python",
   "nbconvert_exporter": "python",
   "pygments_lexer": "ipython3",
   "version": "3.12.0"
  }
 },
 "nbformat": 4,
 "nbformat_minor": 2
}
